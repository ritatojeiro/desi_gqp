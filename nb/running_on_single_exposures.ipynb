{
 "cells": [
  {
   "cell_type": "markdown",
   "metadata": {},
   "source": [
    "## Analysing Andes spectra from individual exposures - example notebook"
   ]
  },
  {
   "cell_type": "markdown",
   "metadata": {},
   "source": [
    "In this notebook we show how to access spectra from single exposures.\n"
   ]
  },
  {
   "cell_type": "code",
   "execution_count": 1,
   "metadata": {},
   "outputs": [
    {
     "name": "stdout",
     "output_type": "stream",
     "text": [
      "python version:  3.6.6\n"
     ]
    }
   ],
   "source": [
    "import sys \n",
    "import os \n",
    "import h5py \n",
    "import numpy as np \n",
    "from astropy.io import fits\n",
    "from astropy.table import Table, join\n",
    "import pandas as pd\n",
    "import fitsio\n",
    "\n",
    "from desitarget.cmx.cmx_targetmask import cmx_mask  \n",
    "import desispec.io\n",
    "\n",
    "# --- plotting --- \n",
    "import matplotlib as mpl\n",
    "import matplotlib.pyplot as plt\n",
    "\n",
    "from platform import python_version\n",
    "print(\"python version: \", python_version())"
   ]
  },
  {
   "cell_type": "markdown",
   "metadata": {},
   "source": [
    "### Set up directories, etc, to read Andes data\n",
    "\n",
    "Choose the same tile and night as used for the truth table"
   ]
  },
  {
   "cell_type": "code",
   "execution_count": 2,
   "metadata": {},
   "outputs": [
    {
     "name": "stdout",
     "output_type": "stream",
     "text": [
      "env: DESI_SPECTRO_REDUX=/global/cfs/cdirs/desi/spectro/redux/andes/\n",
      "env: SPECPROD=\n"
     ]
    }
   ],
   "source": [
    "%set_env DESI_SPECTRO_REDUX=/global/cfs/cdirs/desi/spectro/redux/andes/\n",
    "%set_env SPECPROD= \n",
    "\n",
    "tile = '66003'\n",
    "date = '20200315'\n",
    "expid=['00055654', '00055655', '00055656'] #each of the 3 exposures has a unique ID. These are the same for all observations of this tile, in this case.\n",
    "spectrograph = ['0','1', '2', '3', '4', '5', '6' ,'7', '8', '9']\n",
    "camera=['b', 'r', 'z']"
   ]
  },
  {
   "cell_type": "code",
   "execution_count": 3,
   "metadata": {},
   "outputs": [
    {
     "name": "stdout",
     "output_type": "stream",
     "text": [
      "/global/cfs/cdirs/desi/spectro/redux/andes/tiles/66003/20200315/cframe-b0-00055654.fits\n"
     ]
    }
   ],
   "source": [
    "dirname = os.path.join(os.getenv(\"DESI_SPECTRO_REDUX\"), os.getenv(\"SPECPROD\"), \"tiles\", tile, date)\n",
    "\n",
    "#filenames are of the form: 'cframe-z9-00055654'\n",
    "filename = \"cframe-{}{}-{}.fits\".format(camera[0], spectrograph[0], expid[0])\n",
    "specfilename = os.path.join(dirname, filename)\n",
    "print(specfilename)"
   ]
  },
  {
   "cell_type": "code",
   "execution_count": 4,
   "metadata": {},
   "outputs": [
    {
     "data": {
      "text/plain": [
       "\n",
       "  file: /global/cfs/cdirs/desi/spectro/redux/andes/tiles/66003/20200315/cframe-b0-00055654.fits\n",
       "  mode: READONLY\n",
       "  extnum hdutype         hduname[v]\n",
       "  0      IMAGE_HDU       FLUX\n",
       "  1      IMAGE_HDU       IVAR\n",
       "  2      IMAGE_HDU       MASK\n",
       "  3      IMAGE_HDU       WAVELENGTH\n",
       "  4      IMAGE_HDU       RESOLUTION\n",
       "  5      BINARY_TBL      FIBERMAP\n",
       "  6      IMAGE_HDU       CHI2PIX\n",
       "  7      BINARY_TBL      SCORES"
      ]
     },
     "execution_count": 4,
     "metadata": {},
     "output_type": "execute_result"
    }
   ],
   "source": [
    "#read in this cframe fits file, for 1 exposure, 1 arm, 1 petal (=500 fibers)\n",
    "DM = fitsio.FITS(specfilename)\n",
    "DM"
   ]
  },
  {
   "cell_type": "markdown",
   "metadata": {},
   "source": [
    "### Reading in fluxes, wavelengths, noise, resolution matrix"
   ]
  },
  {
   "cell_type": "code",
   "execution_count": 5,
   "metadata": {},
   "outputs": [],
   "source": [
    "#read in the data to numpy arrays\n",
    "flux_b = DM[0].read()\n",
    "wave_b = DM[3].read()\n",
    "ivar_b = DM[1].read()\n",
    "resolution_b = DM[4].read()"
   ]
  },
  {
   "cell_type": "code",
   "execution_count": 6,
   "metadata": {},
   "outputs": [
    {
     "name": "stdout",
     "output_type": "stream",
     "text": [
      "(500, 2751) (2751,) (500, 2751) (500, 11, 2751)\n"
     ]
    }
   ],
   "source": [
    "#check the dimensions\n",
    "print(np.shape(flux_b), np.shape(wave_b), np.shape(ivar_b), np.shape(resolution_b))"
   ]
  },
  {
   "cell_type": "code",
   "execution_count": 7,
   "metadata": {},
   "outputs": [
    {
     "data": {
      "text/plain": [
       "<matplotlib.legend.Legend at 0x2aaae68bffd0>"
      ]
     },
     "execution_count": 7,
     "metadata": {},
     "output_type": "execute_result"
    },
    {
     "data": {
      "image/png": "[encoded data removed]",
      "text/plain": [
       "<matplotlib.figure.Figure at 0x2aaae135f048>"
      ]
     },
     "metadata": {
      "needs_background": "light"
     },
     "output_type": "display_data"
    }
   ],
   "source": [
    "#plot the spectrum for a random target\n",
    "plt.plot(wave_b, flux_b[10], label='flux')\n",
    "plt.plot(wave_b, np.sqrt(1/ivar_b[10]), label='noise')\n",
    "plt.xlabel('wavelength')\n",
    "plt.legend()"
   ]
  },
  {
   "cell_type": "markdown",
   "metadata": {},
   "source": [
    "### Reading in the fibermap\n",
    "\n",
    "The fibermap is a binary table, with a bunch of columns. We're only interested in the TargetID for now, so we will read that out directlt."
   ]
  },
  {
   "cell_type": "code",
   "execution_count": 8,
   "metadata": {},
   "outputs": [
    {
     "data": {
      "text/plain": [
       "\n",
       "  file: /global/cfs/cdirs/desi/spectro/redux/andes/tiles/66003/20200315/cframe-b0-00055654.fits\n",
       "  extension: 5\n",
       "  type: BINARY_TBL\n",
       "  extname: FIBERMAP\n",
       "  rows: 500\n",
       "  column info:\n",
       "    TARGETID            i8  \n",
       "    PETAL_LOC           i2  \n",
       "    DEVICE_LOC          i4  \n",
       "    LOCATION            i8  \n",
       "    FIBER               i4  \n",
       "    FIBERSTATUS         i4  \n",
       "    TARGET_RA           f8  \n",
       "    TARGET_DEC          f8  \n",
       "    PMRA                f4  \n",
       "    PMDEC               f4  \n",
       "    PMRA_IVAR           f4  \n",
       "    PMDEC_IVAR          f4  \n",
       "    REF_EPOCH           f4  \n",
       "    LAMBDA_REF          f4  \n",
       "    FA_TARGET           i8  \n",
       "    FA_TYPE             u1  \n",
       "    OBJTYPE             S3  \n",
       "    FIBERASSIGN_X       f4  \n",
       "    FIBERASSIGN_Y       f4  \n",
       "    NUMTARGET           i2  \n",
       "    PRIORITY            i4  \n",
       "    SUBPRIORITY         f8  \n",
       "    OBSCONDITIONS       i4  \n",
       "    NUMOBS_MORE         i8  \n",
       "    RELEASE             i2  \n",
       "    BRICKID             i4  \n",
       "    BRICKNAME           S8  \n",
       "    BRICK_OBJID         i4  \n",
       "    MORPHTYPE           S4  \n",
       "    TARGET_RA_IVAR      f4  \n",
       "    TARGET_DEC_IVAR     f4  \n",
       "    EBV                 f4  \n",
       "    FLUX_G              f4  \n",
       "    FLUX_R              f4  \n",
       "    FLUX_Z              f4  \n",
       "    FLUX_IVAR_G         f4  \n",
       "    FLUX_IVAR_R         f4  \n",
       "    FLUX_IVAR_Z         f4  \n",
       "    MW_TRANSMISSION_G\n",
       "                        f4  \n",
       "    MW_TRANSMISSION_R\n",
       "                        f4  \n",
       "    MW_TRANSMISSION_Z\n",
       "                        f4  \n",
       "    FRACFLUX_G          f4  \n",
       "    FRACFLUX_R          f4  \n",
       "    FRACFLUX_Z          f4  \n",
       "    FRACMASKED_G        f4  \n",
       "    FRACMASKED_R        f4  \n",
       "    FRACMASKED_Z        f4  \n",
       "    FRACIN_G            f4  \n",
       "    FRACIN_R            f4  \n",
       "    FRACIN_Z            f4  \n",
       "    NOBS_G              i2  \n",
       "    NOBS_R              i2  \n",
       "    NOBS_Z              i2  \n",
       "    PSFDEPTH_G          f4  \n",
       "    PSFDEPTH_R          f4  \n",
       "    PSFDEPTH_Z          f4  \n",
       "    GALDEPTH_G          f4  \n",
       "    GALDEPTH_R          f4  \n",
       "    GALDEPTH_Z          f4  \n",
       "    FLUX_W1             f4  \n",
       "    FLUX_W2             f4  \n",
       "    FLUX_W3             f4  \n",
       "    FLUX_W4             f4  \n",
       "    FLUX_IVAR_W1        f4  \n",
       "    FLUX_IVAR_W2        f4  \n",
       "    FLUX_IVAR_W3        f4  \n",
       "    FLUX_IVAR_W4        f4  \n",
       "    MW_TRANSMISSION_W1\n",
       "                        f4  \n",
       "    MW_TRANSMISSION_W2\n",
       "                        f4  \n",
       "    MW_TRANSMISSION_W3\n",
       "                        f4  \n",
       "    MW_TRANSMISSION_W4\n",
       "                        f4  \n",
       "    ALLMASK_G           i2  \n",
       "    ALLMASK_R           i2  \n",
       "    ALLMASK_Z           i2  \n",
       "    FIBERFLUX_G         f4  \n",
       "    FIBERFLUX_R         f4  \n",
       "    FIBERFLUX_Z         f4  \n",
       "    FIBERTOTFLUX_G      f4  \n",
       "    FIBERTOTFLUX_R      f4  \n",
       "    FIBERTOTFLUX_Z      f4  \n",
       "    WISEMASK_W1         u1  \n",
       "    WISEMASK_W2         u1  \n",
       "    MASKBITS            i2  \n",
       "    FRACDEV             f4  \n",
       "    FRACDEV_IVAR        f4  \n",
       "    SHAPEDEV_R          f4  \n",
       "    SHAPEDEV_E1         f4  \n",
       "    SHAPEDEV_E2         f4  \n",
       "    SHAPEDEV_R_IVAR     f4  \n",
       "    SHAPEDEV_E1_IVAR\n",
       "                        f4  \n",
       "    SHAPEDEV_E2_IVAR\n",
       "                        f4  \n",
       "    SHAPEEXP_R          f4  \n",
       "    SHAPEEXP_E1         f4  \n",
       "    SHAPEEXP_E2         f4  \n",
       "    SHAPEEXP_R_IVAR     f4  \n",
       "    SHAPEEXP_E1_IVAR\n",
       "                        f4  \n",
       "    SHAPEEXP_E2_IVAR\n",
       "                        f4  \n",
       "    REF_ID              i8  \n",
       "    REF_CAT             S2  \n",
       "    GAIA_PHOT_G_MEAN_MAG\n",
       "                        f4  \n",
       "    GAIA_PHOT_G_MEAN_FLUX_OVER_ERROR\n",
       "                        f4  \n",
       "    GAIA_PHOT_BP_MEAN_MAG\n",
       "                        f4  \n",
       "    GAIA_PHOT_BP_MEAN_FLUX_OVER_ERROR\n",
       "                        f4  \n",
       "    GAIA_PHOT_RP_MEAN_MAG\n",
       "                        f4  \n",
       "    GAIA_PHOT_RP_MEAN_FLUX_OVER_ERROR\n",
       "                        f4  \n",
       "    GAIA_PHOT_BP_RP_EXCESS_FACTOR\n",
       "                        f4  \n",
       "    GAIA_ASTROMETRIC_EXCESS_NOISE\n",
       "                        f4  \n",
       "    GAIA_DUPLICATED_SOURCE\n",
       "                        b1  \n",
       "    GAIA_ASTROMETRIC_SIGMA5D_MAX\n",
       "                        f4  \n",
       "    GAIA_ASTROMETRIC_PARAMS_SOLVED\n",
       "                        b1  \n",
       "    PARALLAX            f4  \n",
       "    PARALLAX_IVAR       f4  \n",
       "    PHOTSYS             S1  \n",
       "    CMX_TARGET          i8  \n",
       "    PRIORITY_INIT       i8  \n",
       "    NUMOBS_INIT         i8  \n",
       "    HPXPIXEL            i8  \n",
       "    BLOBDIST            f4  \n",
       "    FIBERFLUX_IVAR_G\n",
       "                        f4  \n",
       "    FIBERFLUX_IVAR_R\n",
       "                        f4  \n",
       "    FIBERFLUX_IVAR_Z\n",
       "                        f4  \n",
       "    DESI_TARGET         i8  \n",
       "    BGS_TARGET          i8  \n",
       "    MWS_TARGET          i8  \n",
       "    NUM_ITER            i8  \n",
       "    FIBER_X             f8  \n",
       "    FIBER_Y             f8  \n",
       "    DELTA_X             f8  \n",
       "    DELTA_Y             f8  \n",
       "    FIBER_RA            f8  \n",
       "    FIBER_DEC           f8  "
      ]
     },
     "execution_count": 8,
     "metadata": {},
     "output_type": "execute_result"
    }
   ],
   "source": [
    "#print info and column names\n",
    "DM[5]"
   ]
  },
  {
   "cell_type": "code",
   "execution_count": 9,
   "metadata": {},
   "outputs": [],
   "source": [
    "targetID = DM[5]['TARGETID'].read()"
   ]
  },
  {
   "cell_type": "code",
   "execution_count": 10,
   "metadata": {},
   "outputs": [
    {
     "name": "stdout",
     "output_type": "stream",
     "text": [
      "500\n"
     ]
    }
   ],
   "source": [
    "print(len(targetID))"
   ]
  },
  {
   "cell_type": "code",
   "execution_count": null,
   "metadata": {},
   "outputs": [],
   "source": []
  }
 ],
 "metadata": {
  "kernelspec": {
   "display_name": "my DESI 19.10",
   "language": "python",
   "name": "desi-19.10"
  },
  "language_info": {
   "codemirror_mode": {
    "name": "ipython",
    "version": 3
   },
   "file_extension": ".py",
   "mimetype": "text/x-python",
   "name": "python",
   "nbconvert_exporter": "python",
   "pygments_lexer": "ipython3",
   "version": "3.6.6"
  }
 },
 "nbformat": 4,
 "nbformat_minor": 4
}
